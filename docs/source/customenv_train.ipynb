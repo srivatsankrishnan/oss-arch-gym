{
 "cells": [
  {
   "cell_type": "markdown",
   "metadata": {},
   "source": [
    " Importing dependencies"
   ]
  },
  {
   "cell_type": "code",
   "execution_count": null,
   "metadata": {},
   "outputs": [],
   "source": [
    "from concurrent import futures\n",
    "import grpc\n",
    "import portpicker\n",
    "import sys\n",
    "import os\n",
    "\n",
    "\n",
    "from absl import flags\n",
    "from absl import app\n",
    "from absl import logging\n",
    "\n",
    "os.sys.path.insert(0, os.path.abspath('../../'))\n",
    "# from configs import arch_gym_configs\n",
    "# from arch_gym.envs.envHelpers import helpers\n",
    "\n",
    "import envlogger\n",
    "import numpy as np\n",
    "import pandas as pd\n"
   ]
  },
  {
   "cell_type": "markdown",
   "metadata": {},
   "source": [
    " Import customenv_wrapper - it converts custom environment to deepmind envlogger environment, vizier algorithm designer "
   ]
  },
  {
   "cell_type": "code",
   "execution_count": null,
   "metadata": {},
   "outputs": [],
   "source": [
    "from vizier._src.algorithms.designers.random import RandomDesigner\n",
    "from arch_gym.envs import customenv_wrapper\n",
    "from vizier.service import clients\n",
    "from vizier.service import pyvizier as vz\n",
    "from vizier.service import vizier_server\n",
    "from vizier.service import vizier_service_pb2_grpc\n"
   ]
  },
  {
   "cell_type": "markdown",
   "metadata": {},
   "source": [
    "Define Flags - for taking in command line inputs "
   ]
  },
  {
   "cell_type": "code",
   "execution_count": null,
   "metadata": {},
   "outputs": [],
   "source": [
    "flags.DEFINE_string('workload_rs', 'stream.stl', 'Which DRAMSys workload to run?')\n",
    "flags.DEFINE_integer('num_steps_rs', 100, 'Number of training steps.')\n",
    "flags.DEFINE_integer('num_episodes_rs', 2, 'Number of training episodes.')\n",
    "flags.DEFINE_string('traject_dir_rs', \n",
    "                    'random_search_trajectories', \n",
    "            'Directory to save the dataset.')\n",
    "flags.DEFINE_bool('use_envlogger_rs', False, 'Use envlogger to log the data.')  \n",
    "flags.DEFINE_string('summary_dir_rs', '.', 'Directory to save the summary.')\n",
    "flags.DEFINE_string('reward_formulation_rs', 'power', 'Which reward formulation to use?')\n",
    "flags.DEFINE_integer('seed', 110, 'random_search_hyperparameter')\n",
    "FLAGS = flags.FLAGS"
   ]
  },
  {
   "cell_type": "markdown",
   "metadata": {},
   "source": [
    "This function logs fitness history to csv file "
   ]
  },
  {
   "cell_type": "code",
   "execution_count": null,
   "metadata": {},
   "outputs": [],
   "source": [
    "def log_fitness_to_csv(filename, fitness_dict):\n",
    "    \"\"\"Logs fitness history to csv file\n",
    "\n",
    "    Args:\n",
    "        filename (str): path to the csv file\n",
    "        fitness_dict (dict): dictionary containing the fitness history\n",
    "    \"\"\"\n",
    "    df = pd.DataFrame([fitness_dict['reward']])\n",
    "    csvfile = os.path.join(filename, \"fitness.csv\")\n",
    "    df.to_csv(csvfile, index=False, header=False, mode='a')\n",
    "\n",
    "    # append to csv\n",
    "    df = pd.DataFrame([fitness_dict])\n",
    "    csvfile = os.path.join(filename, \"trajectory.csv\")\n",
    "    df.to_csv(csvfile, index=False, header=False, mode='a')"
   ]
  },
  {
   "cell_type": "markdown",
   "metadata": {},
   "source": [
    "This function wraps the environment in envlogger"
   ]
  },
  {
   "cell_type": "code",
   "execution_count": null,
   "metadata": {},
   "outputs": [],
   "source": [
    "def wrap_in_envlogger(env, envlogger_dir):\n",
    "    \"\"\"Wraps the environment in envlogger\n",
    "\n",
    "    Args:\n",
    "        env (gym.Env): gym environment\n",
    "        envlogger_dir (str): path to the directory where the data will be logged\n",
    "    \"\"\"\n",
    "    metadata = {\n",
    "        'agent_type': 'RandomSearch',\n",
    "        'num_steps': FLAGS.num_steps_rs,\n",
    "        'env_type': type(env).__name__,\n",
    "    }\n",
    "    if FLAGS.use_envlogger_rs:\n",
    "        logging.info('Wrapping environment with EnvironmentLogger...')\n",
    "        env = envlogger.EnvLogger(env,\n",
    "                                  data_directory=envlogger_dir,\n",
    "                                  max_episodes_per_file=1000,\n",
    "                                  metadata=metadata)\n",
    "        logging.info('Done wrapping environment with EnvironmentLogger.')\n",
    "        return env\n",
    "    else:\n",
    "        return env\n",
    "\n"
   ]
  },
  {
   "cell_type": "markdown",
   "metadata": {},
   "source": [
    "Main function trains the custom environment using random actions for a given number of steps and episodes "
   ]
  },
  {
   "cell_type": "markdown",
   "metadata": {},
   "source": [
    "We inititalise env by calling the custom environment wrapper. And then we setup the problem statement, which contains information about the search space and the metrics to optimize."
   ]
  },
  {
   "cell_type": "code",
   "execution_count": null,
   "metadata": {},
   "outputs": [],
   "source": [
    "def main(_):\n",
    "    \"\"\"Trains the custom environment using random actions for a given number of steps and episodes \n",
    "    \"\"\"\n",
    "\n",
    "    env = customenv_wrapper.make_custom_env(max_steps=FLAGS.num_steps_rs)\n",
    "    fitness_hist = {}\n",
    "    problem = vz.ProblemStatement()\n",
    "    problem.search_space.select_root().add_int_param(name='num_cores', min_value = 1, max_value = 12)\n",
    "    problem.search_space.select_root().add_float_param(name='freq', min_value = 0.5, max_value = 3)\n",
    "    problem.search_space.select_root().add_categorical_param(name='mem_type', feasible_values =['DRAM', 'SRAM', 'Hybrid'])\n",
    "    problem.search_space.select_root().add_discrete_param(name='mem_size', feasible_values=[0, 32, 64, 128, 256, 512])\n",
    "\n",
    "    problem.metric_information.append(\n",
    "        vz.MetricInformation(\n",
    "            name='Reward', goal=vz.ObjectiveMetricGoal.MAXIMIZE))"
   ]
  },
  {
   "cell_type": "markdown",
   "metadata": {},
   "source": [
    "The study configuration contains additional information, such as the algorithm to use and level of noise that we think the objective will have. To sweep through the hyperparameters of the algorithm, we access the algorithm through its designer.\n",
    "\n",
    "NOTE - This part of the code is different for different algorithms."
   ]
  },
  {
   "cell_type": "code",
   "execution_count": null,
   "metadata": {},
   "outputs": [],
   "source": [
    "study_config = vz.StudyConfig.from_problem(problem)\n",
    "random_designer = RandomDesigner(problem.search_space, seed = FLAGS.seed)"
   ]
  },
  {
   "cell_type": "markdown",
   "metadata": {},
   "source": [
    "## Setting up the client\n",
    "Starts a `study_client`, which can be either in **local mode (default)** or **distributed mode.**\n",
    "\n",
    "**Local Mode:** The client has no `endpoint` set, and will implicitly create a local Vizier Service which will be shared across other clients in the same Python process. Studies will then be stored locally in a SQL database file located at `service.VIZIER_DB_PATH`.\n",
    "\n",
    "**Distributed mode:** The service may be explicitly created, wrapped as a server in a separate process to accept requests from all other client processses. Details such as the `database_url`, `port`, `policy_factory`, etc. can be configured in the server's initializer.\n",
    "\n",
    "All client processes (on a single machine or over multiple machines) will connect to this server via a globally specified `endpoint`.\n",
    "\n",
    "## Client Parallelization\n",
    "Regardless of whether the setup is local or distributed, we may simultaneously create multiple clients to work on the same study, useful for parallelizing evaluation workload."
   ]
  },
  {
   "cell_type": "code",
   "execution_count": null,
   "metadata": {},
   "outputs": [],
   "source": [
    "port = portpicker.pick_unused_port()\n",
    "address = f'localhost:{port}'\n",
    "\n",
    "# Setup server.\n",
    "server = grpc.server(futures.ThreadPoolExecutor(max_workers=100))\n",
    "\n",
    "# Setup Vizier Service.\n",
    "servicer = vizier_server.VizierService()\n",
    "vizier_service_pb2_grpc.add_VizierServiceServicer_to_server(servicer, server)\n",
    "server.add_secure_port(address, grpc.local_server_credentials())\n",
    "\n",
    "# Start the server.\n",
    "server.start()\n",
    "\n",
    "clients.environment_variables.service_endpoint = address  # Server address.\n",
    "study = clients.Study.from_study_config(\n",
    "    study_config, owner='owner', study_id='example_study_id')"
   ]
  },
  {
   "cell_type": "markdown",
   "metadata": {},
   "source": [
    "Define the directories for the logs to be saved."
   ]
  },
  {
   "cell_type": "code",
   "execution_count": null,
   "metadata": {},
   "outputs": [],
   "source": [
    "exp_name = \"_num_steps_\" + str(FLAGS.num_steps_rs) + \"_num_episodes_\" + str(FLAGS.num_episodes_rs)\n",
    "\n",
    "    # append logs to base path\n",
    "log_path = os.path.join(FLAGS.summary_dir_rs, 'random_search_logs', FLAGS.reward_formulation_rs, exp_name)\n",
    "\n",
    "# get the current working directory and append the exp name\n",
    "traject_dir = os.path.join(FLAGS.summary_dir_rs, FLAGS.traject_dir_rs, FLAGS.reward_formulation_rs, exp_name)\n",
    "\n",
    "# check if log_path exists else create it\n",
    "if not os.path.exists(log_path):\n",
    "    os.makedirs(log_path)\n",
    "\n",
    "if FLAGS.use_envlogger_rs:\n",
    "    if not os.path.exists(traject_dir):\n",
    "        os.makedirs(traject_dir)\n",
    "env = wrap_in_envlogger(env, traject_dir)"
   ]
  },
  {
   "cell_type": "markdown",
   "metadata": {},
   "source": [
    "## Obtaining suggestions\n",
    "Start requesting suggestions from the server, for evaluating objectives. Suggestions can be made sequentially (`count=1`) or in batches (`count>1`)."
   ]
  },
  {
   "cell_type": "code",
   "execution_count": null,
   "metadata": {},
   "outputs": [],
   "source": [
    "env.reset()\n",
    "    \n",
    "count = 0\n",
    "suggestions = random_designer.suggest(count=FLAGS.num_steps_rs)\n",
    "\n",
    "for suggestion in suggestions:\n",
    "    count += 1\n",
    "    num_cores = str(suggestion.parameters['num_cores'])\n",
    "    freq = str(suggestion.parameters['freq'])\n",
    "    mem_type_dict = {'DRAM':0, 'SRAM':1, 'Hybrid':2}\n",
    "    mem_type = str(mem_type_dict[str(suggestion.parameters['mem_type'])])\n",
    "    mem_size = str(suggestion.parameters['mem_size'])\n",
    "    \n",
    "    action = {\"num_cores\":float(num_cores), \"freq\": float(freq), \"mem_type\":float(mem_type), \"mem_size\": float(mem_size)}\n",
    "    \n",
    "    print(\"Suggested Parameters for num_cores, freq, mem_type, mem_size are :\", num_cores, freq, mem_type, mem_size)\n",
    "    done, reward, info, obs = (env.step(action))\n",
    "    fitness_hist['reward'] = reward\n",
    "    fitness_hist['action'] = action\n",
    "    fitness_hist['obs'] = obs\n",
    "    if count == FLAGS.num_steps_rs:\n",
    "        done = True\n",
    "\n",
    "    log_fitness_to_csv(log_path, fitness_hist)\n",
    "    print(\"Observation: \",obs)\n",
    "    final_measurement = vz.Measurement({'Reward': reward})\n",
    "    suggestion = suggestion.to_trial()\n",
    "    suggestion.complete(final_measurement)\n",
    "        "
   ]
  },
  {
   "cell_type": "markdown",
   "metadata": {},
   "source": [
    "Calling the main function"
   ]
  },
  {
   "cell_type": "code",
   "execution_count": null,
   "metadata": {},
   "outputs": [],
   "source": [
    "if __name__ == '__main__':\n",
    "   app.run(main)"
   ]
  }
 ],
 "metadata": {
  "language_info": {
   "name": "python"
  },
  "orig_nbformat": 4
 },
 "nbformat": 4,
 "nbformat_minor": 2
}
